{
 "cells": [
  {
   "cell_type": "markdown",
   "metadata": {},
   "source": [
    "# TEST A PERCEPTUAL PHENOMENON"
   ]
  },
  {
   "cell_type": "code",
   "execution_count": 1,
   "metadata": {},
   "outputs": [],
   "source": [
    "import pandas as pd\n",
    "import os\n",
    "import numpy as np\n",
    "import matplotlib.pyplot as plt\n",
    "from math import *\n",
    "%matplotlib inline\n"
   ]
  },
  {
   "cell_type": "code",
   "execution_count": 2,
   "metadata": {},
   "outputs": [],
   "source": [
    "path = os.getcwd()"
   ]
  },
  {
   "cell_type": "code",
   "execution_count": 3,
   "metadata": {},
   "outputs": [],
   "source": [
    "df = pd.read_csv(path+\"\\stroopdata.csv\", sep=\",\")"
   ]
  },
  {
   "cell_type": "code",
   "execution_count": 4,
   "metadata": {
    "scrolled": false
   },
   "outputs": [
    {
     "data": {
      "text/html": [
       "<div>\n",
       "<style scoped>\n",
       "    .dataframe tbody tr th:only-of-type {\n",
       "        vertical-align: middle;\n",
       "    }\n",
       "\n",
       "    .dataframe tbody tr th {\n",
       "        vertical-align: top;\n",
       "    }\n",
       "\n",
       "    .dataframe thead th {\n",
       "        text-align: right;\n",
       "    }\n",
       "</style>\n",
       "<table border=\"1\" class=\"dataframe\">\n",
       "  <thead>\n",
       "    <tr style=\"text-align: right;\">\n",
       "      <th></th>\n",
       "      <th>Congruent</th>\n",
       "      <th>Incongruent</th>\n",
       "    </tr>\n",
       "  </thead>\n",
       "  <tbody>\n",
       "    <tr>\n",
       "      <th>0</th>\n",
       "      <td>12.079</td>\n",
       "      <td>19.278</td>\n",
       "    </tr>\n",
       "    <tr>\n",
       "      <th>1</th>\n",
       "      <td>16.791</td>\n",
       "      <td>18.741</td>\n",
       "    </tr>\n",
       "    <tr>\n",
       "      <th>2</th>\n",
       "      <td>9.564</td>\n",
       "      <td>21.214</td>\n",
       "    </tr>\n",
       "    <tr>\n",
       "      <th>3</th>\n",
       "      <td>8.630</td>\n",
       "      <td>15.687</td>\n",
       "    </tr>\n",
       "    <tr>\n",
       "      <th>4</th>\n",
       "      <td>14.669</td>\n",
       "      <td>22.803</td>\n",
       "    </tr>\n",
       "  </tbody>\n",
       "</table>\n",
       "</div>"
      ],
      "text/plain": [
       "   Congruent  Incongruent\n",
       "0     12.079       19.278\n",
       "1     16.791       18.741\n",
       "2      9.564       21.214\n",
       "3      8.630       15.687\n",
       "4     14.669       22.803"
      ]
     },
     "execution_count": 4,
     "metadata": {},
     "output_type": "execute_result"
    }
   ],
   "source": [
    "df.head()"
   ]
  },
  {
   "cell_type": "markdown",
   "metadata": {},
   "source": [
    "### 1. What is our independent variable? What is our dependent variable?\n",
    "> Independent variables are Word Condition( congruent and incongruent) and dependent varibale is the Response Time. "
   ]
  },
  {
   "cell_type": "markdown",
   "metadata": {},
   "source": [
    "### 2. What is an appropriate set of hypotheses for this task? Specify the null and alternative hypotheses based on what you think the researchers might be interested in. Justify your choices.\n",
    ">$H_0 $ ( μi - μc = 0 ) Null hypothesis is that there is no difference in the response time to name congruent and incongruent words <br>\n",
    "$H_1$ ( μi - μc ≠ 0 ) Alternate hypothesis is that there is difference in the response time to name congruent and incongruent words<br>\n",
    ">\n",
    "μi population mean from where incongruent word sample derived<br>\n",
    "μc population mean from where congruent word sample was derived<br>\n",
    "\n",
    ">The Dependent Samples t-Test is the appropriate statistical test as the same subjects are assigned two different conditions. The different conditions are dependent because, in theory, by doing the first test you have some practice doing it and you might have an unfair advantage due to this learning effect in doing the similar type of test second. In addition, we don't have any population parameters provided (so a z-test would not be appropriate here)"
   ]
  },
  {
   "cell_type": "markdown",
   "metadata": {},
   "source": [
    "### 3. Report some descriptive statistics regarding this dataset. Include at least one measure of central tendency and at least one measure of variability.\n"
   ]
  },
  {
   "cell_type": "code",
   "execution_count": 5,
   "metadata": {},
   "outputs": [],
   "source": [
    "c = df['Congruent']; i = df['Incongruent']"
   ]
  },
  {
   "cell_type": "code",
   "execution_count": 6,
   "metadata": {},
   "outputs": [
    {
     "name": "stdout",
     "output_type": "stream",
     "text": [
      " The mean of congruent and incongruent time are 14.051125000000004 and 22.01591666666667\n"
     ]
    }
   ],
   "source": [
    "print(\" The mean of congruent and incongruent time are {} and {}\".format(c.mean(), i.mean()))"
   ]
  },
  {
   "cell_type": "code",
   "execution_count": 7,
   "metadata": {},
   "outputs": [
    {
     "name": "stdout",
     "output_type": "stream",
     "text": [
      " The SD of congruent and incongruent time are 3.559357957645195 and 4.797057122469138\n"
     ]
    }
   ],
   "source": [
    "print(\" The SD of congruent and incongruent time are {} and {}\".format(c.std(), i.std()))"
   ]
  },
  {
   "cell_type": "markdown",
   "metadata": {},
   "source": [
    "### 4. Provide one or two visualizations that show the distribution of the sample data. Write one or two sentences noting what you observe about the plot or plots."
   ]
  },
  {
   "cell_type": "code",
   "execution_count": 8,
   "metadata": {
    "scrolled": true
   },
   "outputs": [
    {
     "data": {
      "image/png": "[encoded data removed]",
      "text/plain": [
       "<matplotlib.figure.Figure at 0x178c25c2b00>"
      ]
     },
     "metadata": {},
     "output_type": "display_data"
    }
   ],
   "source": [
    "df[\"sample\"] = df.index+1\n",
    "\n",
    "x   = df[\"sample\"]\n",
    "y_c = df[\"Congruent\"]\n",
    "y_i = df[\"Incongruent\"]\n",
    "\n",
    "fig = plt.figure()\n",
    "fig.suptitle(\"Scatter plot of Test Subject Vs Time\", fontsize = 14, fontweight = 'bold')\n",
    "ax = fig.add_subplot(111)\n",
    "ax.set_xlabel(\"Subject\")\n",
    "ax.set_ylabel(\"Time in seconds\")\n",
    "\n",
    "plt.scatter(x, y_c, s=10, c='b', marker='s', label = \"Congruent\")\n",
    "plt.scatter(x, y_i, s=10, c='r', marker='s', label = \"Incongruent\")\n",
    "\n",
    "plt.legend(loc=\"upper left\")\n",
    "plt.show()"
   ]
  },
  {
   "cell_type": "code",
   "execution_count": 9,
   "metadata": {},
   "outputs": [
    {
     "data": {
      "image/png": "[encoded data removed]",
      "text/plain": [
       "<matplotlib.figure.Figure at 0x178c25a4d68>"
      ]
     },
     "metadata": {},
     "output_type": "display_data"
    }
   ],
   "source": [
    "box_plot = plt.figure()\n",
    "ax       = box_plot.add_subplot(111)\n",
    "bp       = ax.boxplot([y_c, y_i])\n",
    "labels   = ['Congruent', 'Incongruent']\n",
    "\n",
    "ax.set_xticklabels(labels)\n",
    "plt.show()"
   ]
  },
  {
   "cell_type": "markdown",
   "metadata": {},
   "source": [
    "From the plot it is clear that average incongruent response time is higher the congruent time for the sample"
   ]
  },
  {
   "cell_type": "markdown",
   "metadata": {},
   "source": [
    "### 5. Now, perform the statistical test and report your results. What is your confidence level or Type I error associated with your test? What is your conclusion regarding the hypotheses you set up? Did the results match up with your expectations? Hint: Think about what is being measured on each individual, and what statistic best captures how an individual reacts in each environment."
   ]
  },
  {
   "cell_type": "markdown",
   "metadata": {},
   "source": [
    ">Confidence Level = 95% <br>\n",
    "t-critical value (2-sided test) -> from [t-table](https://s3.amazonaws.com/udacity-hosted-downloads/t-table.jpg)<br>\n",
    "df = n - 1 = 23<br>\n",
    "tcrit = +- 2.069<br>"
   ]
  },
  {
   "cell_type": "code",
   "execution_count": 26,
   "metadata": {},
   "outputs": [
    {
     "name": "stdout",
     "output_type": "stream",
     "text": [
      "T-statistic value is  8.0207\n"
     ]
    }
   ],
   "source": [
    "#number of subjects \n",
    "n = len(df)\n",
    "\n",
    "\n",
    "#point estimate \n",
    "PE = i.mean() - c.mean()\n",
    "round(PE,2)\n",
    "\n",
    "#s - sample standard deviation of differences\n",
    "#1. D = sample difference\n",
    "df['D'] = df['Incongruent'] - df['Congruent']\n",
    "\n",
    "#2. DFM = difference from the mean\n",
    "#SQD = squared differences from the mean\n",
    "DFM = df['D'] - df['D'].mean()\n",
    "df['SQD'] = DFM*DFM\n",
    "\n",
    "#3. SSD = sum of squared differences\n",
    "SSD = df['SQD'].sum()\n",
    "\n",
    "#4. v = variance = SSD/(n-1)\n",
    "v = SSD/(n-1)\n",
    "\n",
    "#5. s = sqrt(v)\n",
    "s = sqrt(v)\n",
    "round(s,2)\n",
    "\n",
    "#t-statistic\n",
    "#t = PE/(s/√n)\n",
    "#PE = (μi - μc)\n",
    "t = PE/(s/(sqrt(n)))\n",
    "print(\"T-statistic value is  {}\".format(round(t,4)))"
   ]
  },
  {
   "cell_type": "markdown",
   "metadata": {},
   "source": [
    "#### Conclusion\n",
    ">From above it is clear that t-statistic(8.0207) > t-critical(2.069). We reject the NULL hypothesis as there is significant differance in time consumed by the test subjects to answer congruent and incongruent sample questions. \n",
    "\n",
    ">From personal experience of taking the test there was a significant differance in time consumed to answer the rwo set of questions.\n",
    "\n",
    ">The results match up to my expectations"
   ]
  }
 ],
 "metadata": {
  "kernelspec": {
   "display_name": "Python 3",
   "language": "python",
   "name": "python3"
  },
  "language_info": {
   "codemirror_mode": {
    "name": "ipython",
    "version": 3
   },
   "file_extension": ".py",
   "mimetype": "text/x-python",
   "name": "python",
   "nbconvert_exporter": "python",
   "pygments_lexer": "ipython3",
   "version": "3.6.3"
  }
 },
 "nbformat": 4,
 "nbformat_minor": 2
}
